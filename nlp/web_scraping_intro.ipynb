{
 "cells": [
  {
   "cell_type": "code",
   "execution_count": 1,
   "metadata": {},
   "outputs": [],
   "source": [
    "from scrapy import Selector, Request\n",
    "import scrapy\n",
    "import requests"
   ]
  },
  {
   "cell_type": "markdown",
   "metadata": {},
   "source": [
    "## 1. Scraping for links to lyrics"
   ]
  },
  {
   "cell_type": "code",
   "execution_count": 2,
   "metadata": {},
   "outputs": [],
   "source": [
    "url = 'https://genius.com/artists/Dua-lipa' \n",
    "html = requests.get( url ).content\n",
    "sel = Selector(text=html)"
   ]
  },
  {
   "cell_type": "code",
   "execution_count": 3,
   "metadata": {},
   "outputs": [
    {
     "name": "stdout",
     "output_type": "stream",
     "text": [
      "There is this number of elements in the html code:  424\n"
     ]
    }
   ],
   "source": [
    "print( \"There is this number of elements in the html code: \", len( sel.xpath('//*') ) )"
   ]
  },
  {
   "cell_type": "code",
   "execution_count": null,
   "metadata": {},
   "outputs": [],
   "source": []
  },
  {
   "cell_type": "code",
   "execution_count": 4,
   "metadata": {},
   "outputs": [],
   "source": [
    "# getting all links to song lyrics\n",
    "\n",
    "links_dualipa = sel.css('a.mini_card::attr(href)').extract()"
   ]
  },
  {
   "cell_type": "code",
   "execution_count": 5,
   "metadata": {},
   "outputs": [],
   "source": [
    "links_dualipa2 = sel.xpath('/html//*[contains(@class, \"mini_card\")]/@href').extract()"
   ]
  },
  {
   "cell_type": "code",
   "execution_count": 6,
   "metadata": {},
   "outputs": [
    {
     "data": {
      "text/plain": [
       "['https://genius.com/Dua-lipa-new-rules-lyrics',\n",
       " 'https://genius.com/Dua-lipa-dont-start-now-lyrics',\n",
       " 'https://genius.com/Dua-lipa-idgaf-lyrics',\n",
       " 'https://genius.com/Dua-lipa-blow-your-mind-mwah-lyrics',\n",
       " 'https://genius.com/Dua-lipa-levitating-lyrics',\n",
       " 'https://genius.com/Dua-lipa-break-my-heart-lyrics',\n",
       " 'https://genius.com/Dua-lipa-be-the-one-lyrics',\n",
       " 'https://genius.com/Dua-lipa-homesick-lyrics',\n",
       " 'https://genius.com/Dua-lipa-physical-lyrics',\n",
       " 'https://genius.com/Dua-lipa-were-good-lyrics']"
      ]
     },
     "execution_count": 6,
     "metadata": {},
     "output_type": "execute_result"
    }
   ],
   "source": [
    "links_dualipa2"
   ]
  },
  {
   "cell_type": "code",
   "execution_count": 7,
   "metadata": {},
   "outputs": [
    {
     "data": {
      "text/plain": [
       "['https://genius.com/Dua-lipa-new-rules-lyrics',\n",
       " 'https://genius.com/Dua-lipa-dont-start-now-lyrics',\n",
       " 'https://genius.com/Dua-lipa-idgaf-lyrics',\n",
       " 'https://genius.com/Dua-lipa-blow-your-mind-mwah-lyrics',\n",
       " 'https://genius.com/Dua-lipa-levitating-lyrics',\n",
       " 'https://genius.com/Dua-lipa-break-my-heart-lyrics',\n",
       " 'https://genius.com/Dua-lipa-be-the-one-lyrics',\n",
       " 'https://genius.com/Dua-lipa-homesick-lyrics',\n",
       " 'https://genius.com/Dua-lipa-physical-lyrics',\n",
       " 'https://genius.com/Dua-lipa-were-good-lyrics']"
      ]
     },
     "execution_count": 7,
     "metadata": {},
     "output_type": "execute_result"
    }
   ],
   "source": [
    "links_dualipa"
   ]
  },
  {
   "cell_type": "markdown",
   "metadata": {},
   "source": [
    "## 2. Scraping for lyrics"
   ]
  },
  {
   "cell_type": "code",
   "execution_count": 8,
   "metadata": {},
   "outputs": [],
   "source": [
    "url = 'https://genius.com/Dua-lipa-dont-start-now-lyrics' \n",
    "html = requests.get( url ).content\n",
    "sel = Selector(text=html)"
   ]
  },
  {
   "cell_type": "code",
   "execution_count": 9,
   "metadata": {},
   "outputs": [],
   "source": [
    "song_title = sel.css('title::text').extract_first().strip()"
   ]
  },
  {
   "cell_type": "code",
   "execution_count": 10,
   "metadata": {},
   "outputs": [
    {
     "data": {
      "text/plain": [
       "\"Dua\\xa0Lipa – Don't Start Now Lyrics | Genius Lyrics\""
      ]
     },
     "execution_count": 10,
     "metadata": {},
     "output_type": "execute_result"
    }
   ],
   "source": [
    "song_title"
   ]
  },
  {
   "cell_type": "code",
   "execution_count": 11,
   "metadata": {},
   "outputs": [],
   "source": [
    "song_lyrics = sel.xpath(\n",
    "            ('/html//*[contains(@class,\"lyric\")]//a/text()|/html//*[contains(@class,\"lyric\")]//p/text()')).extract()"
   ]
  },
  {
   "cell_type": "code",
   "execution_count": 12,
   "metadata": {},
   "outputs": [],
   "source": [
    "song_lyrics = [line.strip() for line in song_lyrics]"
   ]
  },
  {
   "cell_type": "code",
   "execution_count": 13,
   "metadata": {
    "scrolled": true
   },
   "outputs": [
    {
     "data": {
      "text/plain": [
       "[]"
      ]
     },
     "execution_count": 13,
     "metadata": {},
     "output_type": "execute_result"
    }
   ],
   "source": [
    "song_lyrics"
   ]
  },
  {
   "cell_type": "markdown",
   "metadata": {},
   "source": [
    "## 3. Write the Spider "
   ]
  },
  {
   "cell_type": "code",
   "execution_count": 14,
   "metadata": {},
   "outputs": [],
   "source": [
    "# writing a scrapy spider to scrape the lyrics in every link\n",
    "\n",
    "# Import the CrawlerProcess: for running the spider\n",
    "from scrapy.crawler import CrawlerProcess\n",
    "\n",
    "# Create the Spider class\n",
    "class Lyrics_Spider(scrapy.Spider):\n",
    "  name = \"lyrics_spider\"\n",
    "  # start_requests method\n",
    "  def start_requests(self):\n",
    "    yield scrapy.Request(url = \"https://genius.com/artists/Dua-lipa\",\n",
    "                         callback = self.parse_links)\n",
    "  # First parsing method\n",
    "  def parse_links(self, response):\n",
    "    lyrics_links = response.css('a.mini_card::attr(href)').extract()\n",
    "    for url in lyrics_links:\n",
    "      yield response.follow(url = url,\n",
    "                            callback = self.parse_lyrics)\n",
    "  # Second parsing method\n",
    "  def parse_lyrics(self, response):\n",
    "    song_title = response.css('title::text').extract_first().strip()\n",
    "    song_lyrics = response.xpath(\n",
    "            ('/html//*[contains(@class,\"lyric\")]//a/text()|/html//*[contains(@class,\"lyric\")]//p/text()')).extract()\n",
    "    \n",
    "    song_lyrics = [line.strip() for line in song_lyrics]\n",
    "    lyrics_dict[song_title] = song_lyrics\n"
   ]
  },
  {
   "cell_type": "code",
   "execution_count": 15,
   "metadata": {},
   "outputs": [
    {
     "name": "stderr",
     "output_type": "stream",
     "text": [
      "2021-05-21 17:01:43 [scrapy.utils.log] INFO: Scrapy 2.5.0 started (bot: scrapybot)\n",
      "2021-05-21 17:01:43 [scrapy.utils.log] INFO: Versions: lxml 4.6.1.0, libxml2 2.9.10, cssselect 1.1.0, parsel 1.6.0, w3lib 1.22.0, Twisted 21.2.0, Python 3.8.5 (default, Sep  4 2020, 02:22:02) - [Clang 10.0.0 ], pyOpenSSL 19.1.0 (OpenSSL 1.1.1h  22 Sep 2020), cryptography 3.1.1, Platform macOS-10.14.6-x86_64-i386-64bit\n",
      "2021-05-21 17:01:43 [scrapy.utils.log] DEBUG: Using reactor: twisted.internet.selectreactor.SelectReactor\n",
      "2021-05-21 17:01:43 [scrapy.crawler] INFO: Overridden settings:\n",
      "{}\n",
      "2021-05-21 17:01:43 [scrapy.extensions.telnet] INFO: Telnet Password: ae308fd7e1975c65\n",
      "2021-05-21 17:01:43 [scrapy.middleware] INFO: Enabled extensions:\n",
      "['scrapy.extensions.corestats.CoreStats',\n",
      " 'scrapy.extensions.telnet.TelnetConsole',\n",
      " 'scrapy.extensions.memusage.MemoryUsage',\n",
      " 'scrapy.extensions.logstats.LogStats']\n",
      "2021-05-21 17:01:43 [scrapy.middleware] INFO: Enabled downloader middlewares:\n",
      "['scrapy.downloadermiddlewares.httpauth.HttpAuthMiddleware',\n",
      " 'scrapy.downloadermiddlewares.downloadtimeout.DownloadTimeoutMiddleware',\n",
      " 'scrapy.downloadermiddlewares.defaultheaders.DefaultHeadersMiddleware',\n",
      " 'scrapy.downloadermiddlewares.useragent.UserAgentMiddleware',\n",
      " 'scrapy.downloadermiddlewares.retry.RetryMiddleware',\n",
      " 'scrapy.downloadermiddlewares.redirect.MetaRefreshMiddleware',\n",
      " 'scrapy.downloadermiddlewares.httpcompression.HttpCompressionMiddleware',\n",
      " 'scrapy.downloadermiddlewares.redirect.RedirectMiddleware',\n",
      " 'scrapy.downloadermiddlewares.cookies.CookiesMiddleware',\n",
      " 'scrapy.downloadermiddlewares.httpproxy.HttpProxyMiddleware',\n",
      " 'scrapy.downloadermiddlewares.stats.DownloaderStats']\n",
      "2021-05-21 17:01:43 [scrapy.middleware] INFO: Enabled spider middlewares:\n",
      "['scrapy.spidermiddlewares.httperror.HttpErrorMiddleware',\n",
      " 'scrapy.spidermiddlewares.offsite.OffsiteMiddleware',\n",
      " 'scrapy.spidermiddlewares.referer.RefererMiddleware',\n",
      " 'scrapy.spidermiddlewares.urllength.UrlLengthMiddleware',\n",
      " 'scrapy.spidermiddlewares.depth.DepthMiddleware']\n",
      "2021-05-21 17:01:43 [scrapy.middleware] INFO: Enabled item pipelines:\n",
      "[]\n",
      "2021-05-21 17:01:43 [scrapy.core.engine] INFO: Spider opened\n",
      "2021-05-21 17:01:43 [scrapy.extensions.logstats] INFO: Crawled 0 pages (at 0 pages/min), scraped 0 items (at 0 items/min)\n",
      "2021-05-21 17:01:43 [scrapy.extensions.telnet] INFO: Telnet console listening on 127.0.0.1:6023\n",
      "2021-05-21 17:01:45 [scrapy.core.engine] DEBUG: Crawled (200) <GET https://genius.com/artists/Dua-lipa> (referer: None)\n",
      "2021-05-21 17:01:46 [scrapy.core.engine] DEBUG: Crawled (200) <GET https://genius.com/Dua-lipa-new-rules-lyrics> (referer: https://genius.com/artists/Dua-lipa)\n",
      "2021-05-21 17:01:46 [scrapy.core.engine] DEBUG: Crawled (200) <GET https://genius.com/Dua-lipa-were-good-lyrics> (referer: https://genius.com/artists/Dua-lipa)\n",
      "2021-05-21 17:01:46 [scrapy.core.engine] DEBUG: Crawled (200) <GET https://genius.com/Dua-lipa-break-my-heart-lyrics> (referer: https://genius.com/artists/Dua-lipa)\n",
      "2021-05-21 17:01:46 [scrapy.core.engine] DEBUG: Crawled (200) <GET https://genius.com/Dua-lipa-levitating-lyrics> (referer: https://genius.com/artists/Dua-lipa)\n",
      "2021-05-21 17:01:46 [scrapy.core.engine] DEBUG: Crawled (200) <GET https://genius.com/Dua-lipa-homesick-lyrics> (referer: https://genius.com/artists/Dua-lipa)\n",
      "2021-05-21 17:01:46 [scrapy.core.engine] DEBUG: Crawled (200) <GET https://genius.com/Dua-lipa-be-the-one-lyrics> (referer: https://genius.com/artists/Dua-lipa)\n",
      "2021-05-21 17:01:46 [scrapy.core.engine] DEBUG: Crawled (200) <GET https://genius.com/Dua-lipa-blow-your-mind-mwah-lyrics> (referer: https://genius.com/artists/Dua-lipa)\n",
      "2021-05-21 17:01:46 [scrapy.core.engine] DEBUG: Crawled (200) <GET https://genius.com/Dua-lipa-physical-lyrics> (referer: https://genius.com/artists/Dua-lipa)\n",
      "2021-05-21 17:01:46 [scrapy.core.engine] DEBUG: Crawled (200) <GET https://genius.com/Dua-lipa-idgaf-lyrics> (referer: https://genius.com/artists/Dua-lipa)\n",
      "2021-05-21 17:01:46 [scrapy.core.engine] DEBUG: Crawled (200) <GET https://genius.com/Dua-lipa-dont-start-now-lyrics> (referer: https://genius.com/artists/Dua-lipa)\n",
      "2021-05-21 17:01:47 [scrapy.core.engine] INFO: Closing spider (finished)\n",
      "2021-05-21 17:01:47 [scrapy.statscollectors] INFO: Dumping Scrapy stats:\n",
      "{'downloader/request_bytes': 3446,\n",
      " 'downloader/request_count': 11,\n",
      " 'downloader/request_method_count/GET': 11,\n",
      " 'downloader/response_bytes': 804095,\n",
      " 'downloader/response_count': 11,\n",
      " 'downloader/response_status_count/200': 11,\n",
      " 'elapsed_time_seconds': 3.050233,\n",
      " 'finish_reason': 'finished',\n",
      " 'finish_time': datetime.datetime(2021, 5, 21, 15, 1, 47, 43587),\n",
      " 'httpcompression/response_bytes': 4055873,\n",
      " 'httpcompression/response_count': 11,\n",
      " 'log_count/DEBUG': 11,\n",
      " 'log_count/INFO': 10,\n",
      " 'memusage/max': 92950528,\n",
      " 'memusage/startup': 92950528,\n",
      " 'request_depth_max': 1,\n",
      " 'response_received_count': 11,\n",
      " 'scheduler/dequeued': 11,\n",
      " 'scheduler/dequeued/memory': 11,\n",
      " 'scheduler/enqueued': 11,\n",
      " 'scheduler/enqueued/memory': 11,\n",
      " 'start_time': datetime.datetime(2021, 5, 21, 15, 1, 43, 993354)}\n",
      "2021-05-21 17:01:47 [scrapy.core.engine] INFO: Spider closed (finished)\n"
     ]
    }
   ],
   "source": [
    "# Initialize the dictionary **outside** of the Spider class\n",
    "lyrics_dict = dict()\n",
    "\n",
    "# Run the Spider\n",
    "process = CrawlerProcess()\n",
    "process.crawl(Lyrics_Spider)\n",
    "process.start()\n"
   ]
  },
  {
   "cell_type": "code",
   "execution_count": 16,
   "metadata": {},
   "outputs": [
    {
     "data": {
      "text/plain": [
       "dict_keys(['Dua\\xa0Lipa – New Rules Lyrics | Genius Lyrics', \"Dua\\xa0Lipa – We're Good Lyrics | Genius Lyrics\", 'Dua\\xa0Lipa – Break My Heart Lyrics | Genius Lyrics', 'Dua\\xa0Lipa – Levitating Lyrics | Genius Lyrics', 'Dua\\xa0Lipa – Homesick Lyrics | Genius Lyrics', 'Be the One Lyrics - Dua Lipa | Genius Lyrics', 'Dua\\xa0Lipa – Blow Your Mind (Mwah) Lyrics | Genius Lyrics', 'Dua\\xa0Lipa – Physical Lyrics | Genius Lyrics', 'Dua\\xa0Lipa – IDGAF Lyrics | Genius Lyrics', \"Dua\\xa0Lipa – Don't Start Now Lyrics | Genius Lyrics\"])"
      ]
     },
     "execution_count": 16,
     "metadata": {},
     "output_type": "execute_result"
    }
   ],
   "source": [
    "lyrics_dict.keys()"
   ]
  },
  {
   "cell_type": "markdown",
   "metadata": {},
   "source": [
    "## 4. Scraping more songs (link to more links)"
   ]
  },
  {
   "cell_type": "code",
   "execution_count": 17,
   "metadata": {},
   "outputs": [
    {
     "name": "stderr",
     "output_type": "stream",
     "text": [
      "2021-05-21 17:01:47 [urllib3.connectionpool] DEBUG: Starting new HTTPS connection (1): genius.com:443\n",
      "2021-05-21 17:01:47 [urllib3.connectionpool] DEBUG: https://genius.com:443 \"GET /artists/Dua-lipa HTTP/1.1\" 200 None\n"
     ]
    },
    {
     "name": "stdout",
     "output_type": "stream",
     "text": [
      "['https://genius.com/albums/Dua-lipa/Future-nostalgia-the-moonlight-edition', 'https://genius.com/albums/Dua-lipa/Future-nostalgia-bonus-edition', 'https://genius.com/albums/Dua-lipa/Future-nostalgia', 'https://genius.com/albums/Dua-lipa/Dont-start-now-remixes', 'https://genius.com/albums/Dua-lipa/Dua-lipa-complete-edition', 'https://genius.com/albums/Dua-lipa/New-rules-remixes']\n"
     ]
    }
   ],
   "source": [
    "url = 'https://genius.com/artists/Dua-lipa' \n",
    "html = requests.get( url ).content\n",
    "sel = Selector(text=html)\n",
    "\n",
    "links_dualipa_albums = sel.css('a.vertical_album_card::attr(href)').extract()\n",
    "\n",
    "print(links_dualipa_albums)"
   ]
  },
  {
   "cell_type": "code",
   "execution_count": 18,
   "metadata": {},
   "outputs": [
    {
     "name": "stderr",
     "output_type": "stream",
     "text": [
      "2021-05-21 17:01:47 [urllib3.connectionpool] DEBUG: Starting new HTTPS connection (1): genius.com:443\n",
      "2021-05-21 17:01:47 [urllib3.connectionpool] DEBUG: https://genius.com:443 \"GET /albums/Dua-lipa/Future-nostalgia-the-moonlight-edition HTTP/1.1\" 200 None\n",
      "2021-05-21 17:01:47 [urllib3.connectionpool] DEBUG: Starting new HTTPS connection (1): genius.com:443\n",
      "2021-05-21 17:01:48 [urllib3.connectionpool] DEBUG: https://genius.com:443 \"GET /albums/Dua-lipa/Future-nostalgia-bonus-edition HTTP/1.1\" 200 None\n",
      "2021-05-21 17:01:48 [urllib3.connectionpool] DEBUG: Starting new HTTPS connection (1): genius.com:443\n",
      "2021-05-21 17:01:49 [urllib3.connectionpool] DEBUG: https://genius.com:443 \"GET /albums/Dua-lipa/Future-nostalgia HTTP/1.1\" 200 None\n",
      "2021-05-21 17:01:49 [urllib3.connectionpool] DEBUG: Starting new HTTPS connection (1): genius.com:443\n",
      "2021-05-21 17:01:50 [urllib3.connectionpool] DEBUG: https://genius.com:443 \"GET /albums/Dua-lipa/Dont-start-now-remixes HTTP/1.1\" 200 None\n",
      "2021-05-21 17:01:50 [urllib3.connectionpool] DEBUG: Starting new HTTPS connection (1): genius.com:443\n",
      "2021-05-21 17:01:50 [urllib3.connectionpool] DEBUG: https://genius.com:443 \"GET /albums/Dua-lipa/Dua-lipa-complete-edition HTTP/1.1\" 200 None\n",
      "2021-05-21 17:01:50 [urllib3.connectionpool] DEBUG: Starting new HTTPS connection (1): genius.com:443\n",
      "2021-05-21 17:01:50 [urllib3.connectionpool] DEBUG: https://genius.com:443 \"GET /albums/Dua-lipa/New-rules-remixes HTTP/1.1\" 200 None\n"
     ]
    }
   ],
   "source": [
    "links_dualipa = []\n",
    "url = 'https://genius.com/artists/Dua-lipa' \n",
    "\n",
    "for link in links_dualipa_albums:\n",
    "    html = requests.get( link ).content\n",
    "    sel = Selector(text=html)\n",
    "    links_in_album = sel.css('a.u-display_block::attr(href)').extract()\n",
    "    links_dualipa.extend(links_in_album)\n"
   ]
  },
  {
   "cell_type": "code",
   "execution_count": 19,
   "metadata": {},
   "outputs": [
    {
     "data": {
      "text/plain": [
       "96"
      ]
     },
     "execution_count": 19,
     "metadata": {},
     "output_type": "execute_result"
    }
   ],
   "source": [
    "len(links_dualipa)"
   ]
  },
  {
   "cell_type": "code",
   "execution_count": null,
   "metadata": {},
   "outputs": [],
   "source": []
  }
 ],
 "metadata": {
  "kernelspec": {
   "display_name": "Python 3",
   "language": "python",
   "name": "python3"
  },
  "language_info": {
   "codemirror_mode": {
    "name": "ipython",
    "version": 3
   },
   "file_extension": ".py",
   "mimetype": "text/x-python",
   "name": "python",
   "nbconvert_exporter": "python",
   "pygments_lexer": "ipython3",
   "version": "3.8.8"
  }
 },
 "nbformat": 4,
 "nbformat_minor": 4
}
