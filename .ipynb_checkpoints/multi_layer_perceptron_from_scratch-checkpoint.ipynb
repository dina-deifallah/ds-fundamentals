{
 "cells": [
  {
   "cell_type": "code",
   "execution_count": 1,
   "metadata": {},
   "outputs": [],
   "source": [
    "import numpy as np\n"
   ]
  },
  {
   "cell_type": "code",
   "execution_count": 2,
   "metadata": {},
   "outputs": [],
   "source": [
    "# build the class of MLP\n",
    "\n",
    "\n",
    "class MLP:\n",
    "    \n",
    "    def __init__(self, num_inputs=2, num_hidden=[3, 5], num_outputs=2):\n",
    "        \n",
    "        self.num_inputs = num_inputs\n",
    "        self.num_hidden = num_hidden\n",
    "        self.num_outputs = num_outputs\n",
    "        \n",
    "        \n",
    "        layers = [self.num_inputs] + self.num_hidden + [self.num_outputs]\n",
    "        \n",
    "        # initiate random weights\n",
    "        self.weights = []\n",
    "        \n",
    "        # create weights matrices for each two subsequent layers in the MLP architecture\n",
    "        for i in range(len(layers)-1):\n",
    "            w = np.random.rand(layers[i], layers[i+1])\n",
    "            self.weights.append(w)\n",
    "            \n",
    "    \n",
    "    def forward_propagate(self, inputs):\n",
    "        \n",
    "        activations = inputs\n",
    "        \n",
    "        for w in self.weights:\n",
    "            # calculate net inputs\n",
    "            net_inputs = np.dot(activations, w)\n",
    "        \n",
    "            # calculate the activations\n",
    "            activations = self._sigmoid(net_inputs)\n",
    "        \n",
    "        return activations\n",
    "    \n",
    "    \n",
    "    def _sigmoid(self, x):\n",
    "        return 1/(1 + np.exp(-x))"
   ]
  },
  {
   "cell_type": "code",
   "execution_count": 3,
   "metadata": {},
   "outputs": [
    {
     "name": "stdout",
     "output_type": "stream",
     "text": [
      "[0.7851195  0.66172443] [0.84013335 0.83726291]\n"
     ]
    }
   ],
   "source": [
    "mlp = MLP()\n",
    "\n",
    "inputs = np.random.rand(mlp.num_inputs)\n",
    "\n",
    "output = mlp.forward_propagate(inputs)\n",
    "\n",
    "print(inputs, output)"
   ]
  },
  {
   "cell_type": "code",
   "execution_count": null,
   "metadata": {},
   "outputs": [],
   "source": []
  }
 ],
 "metadata": {
  "kernelspec": {
   "display_name": "Python 3",
   "language": "python",
   "name": "python3"
  },
  "language_info": {
   "codemirror_mode": {
    "name": "ipython",
    "version": 3
   },
   "file_extension": ".py",
   "mimetype": "text/x-python",
   "name": "python",
   "nbconvert_exporter": "python",
   "pygments_lexer": "ipython3",
   "version": "3.8.5"
  }
 },
 "nbformat": 4,
 "nbformat_minor": 4
}
