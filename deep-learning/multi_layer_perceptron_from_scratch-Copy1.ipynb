{
 "cells": [
  {
   "cell_type": "code",
   "execution_count": 2,
   "metadata": {},
   "outputs": [],
   "source": [
    "import numpy as np\n"
   ]
  },
  {
   "cell_type": "markdown",
   "metadata": {},
   "source": [
    "### objectives:\n",
    "1. save activations and derivatives\n",
    "2. Implement backprogation\n",
    "3. Implement gradient descent\n",
    "4. Implement train\n",
    "\n"
   ]
  },
  {
   "cell_type": "code",
   "execution_count": 35,
   "metadata": {},
   "outputs": [],
   "source": [
    "# build the class of MLP\n",
    "\n",
    "\n",
    "class MLP:\n",
    "    \n",
    "    def __init__(self, num_inputs=3, num_hidden=[3, 5], num_outputs=2):\n",
    "        \n",
    "        self.num_inputs = num_inputs\n",
    "        self.num_hidden = num_hidden\n",
    "        self.num_outputs = num_outputs\n",
    "        \n",
    "        \n",
    "        layers = [self.num_inputs] + self.num_hidden + [self.num_outputs]\n",
    "        \n",
    "        # initiate random weights\n",
    "        self.weights = []\n",
    "        \n",
    "        # create weights matrices for each two subsequent layers in the MLP architecture\n",
    "        for i in range(len(layers)-1):\n",
    "            w = np.random.rand(layers[i], layers[i+1])\n",
    "            self.weights.append(w)\n",
    "            \n",
    "        # initiate activations\n",
    "        activations = []\n",
    "        for i in range(len(layers)):\n",
    "            a = np.zeros(layers[i])\n",
    "            activations.append(a)\n",
    "        \n",
    "        self.activations = activations\n",
    "        \n",
    "        derivatives = []\n",
    "        for i in range(len(layers) - 1):\n",
    "            d = np.zeros((layers[i], layers[i + 1]))\n",
    "            derivatives.append(d)\n",
    "        self.derivatives = derivatives\n",
    "        \n",
    "       \n",
    "    def forward_propagate(self, inputs):\n",
    "        \n",
    "        activations = inputs\n",
    "        self.activations[0] = inputs\n",
    "        \n",
    "        for i, w in enumerate(self.weights):\n",
    "            # calculate net inputs\n",
    "            net_inputs = np.dot(activations, w)\n",
    "        \n",
    "            # calculate the activations\n",
    "            activations = self._sigmoid(net_inputs)\n",
    "            self.activations[i+1] = activations\n",
    "        \n",
    "        return activations\n",
    "    \n",
    "    \n",
    "    def back_propagate(self, error, verbose=False):\n",
    "        \n",
    "        # dE/dW_i = (y - a_[i+1]).sigmoid'(h_[i+1]).a_i\n",
    "        # sigmoid'(h_[i+1]) = sigmoid(h_[i+1])*(1 - sigmoid(h_[i+1]))\n",
    "        # sigmoid(h_[i+1]) = a_[i+1]\n",
    "        \n",
    "        # dE/dW_[i-1] = (y - a_[i+1]).sigmoid'(h_[i+1]).W_i*sigmoid'(h_i)*a_[i_1]\n",
    "        \n",
    "        for i in reversed(range(len(self.derivatives))):\n",
    "            # looping backwards through output to input\n",
    "            activations = self.activations[i+1]\n",
    "            delta = error * self._sigmoid_derivative(activations) # ndarray ([0.1, 0.2]) --> ndarray([[0.1, 0.2]])\n",
    "            delta_reshaped = delta.reshape(delta.shape[0], -1).T\n",
    "            current_activations = self.activations[i] # ndarray([0.4, 0.3,...]) --> ndarray([[0.4], [0.3], ...])\n",
    "            current_activations_reshaped = current_activations.reshape(current_activations.shape[0], -1)\n",
    "            \n",
    "            self.derivatives[i] = np.dot(current_activations_reshaped, delta_reshaped)\n",
    "            \n",
    "            error = np.dot(delta, self.weights[i].T)\n",
    "            \n",
    "            if verbose:\n",
    "                print(\"Derivative for W{}: {}\".format(i, self.derivatives[i]))\n",
    "        \n",
    "        \n",
    "        return error\n",
    "    \n",
    "    def gradient_descent(self, learning_rate):\n",
    "        \n",
    "        for i in range(len(self.weights)):\n",
    "            weights = self.weights[i]\n",
    "            print(\"original W{} = {}\".format(i, weights))\n",
    "            derivatives = self.derivatives[i]\n",
    "            weights += learning_rate*derivatives\n",
    "            print(\"updated W{} = {}\".format(i, weights))\n",
    "    \n",
    "    def train(self, inputs, targets, epochs, learning_rate):\n",
    "        \n",
    "    \n",
    "    def _sigmoid_derivative(self, x):\n",
    "        \n",
    "        return x * (1.0 - x)\n",
    "    \n",
    "    \n",
    "    def _sigmoid(self, x):\n",
    "        return 1/(1 + np.exp(-x))"
   ]
  },
  {
   "cell_type": "code",
   "execution_count": 37,
   "metadata": {},
   "outputs": [
    {
     "name": "stdout",
     "output_type": "stream",
     "text": [
      "Derivative for W1: [[-0.0351131 ]\n",
      " [-0.03541882]\n",
      " [-0.03429802]\n",
      " [-0.03341844]\n",
      " [-0.03616995]]\n",
      "Derivative for W0: [[-0.00105089 -0.00129954 -0.0003902  -0.00143482 -0.00131871]\n",
      " [-0.00210178 -0.00259907 -0.0007804  -0.00286963 -0.00263742]]\n",
      "original W0 = [[0.68873874 0.86574572 0.067299   0.55675034 0.90974053]\n",
      " [0.73002426 0.73913051 0.78145715 0.25813579 0.95793435]]\n",
      "updated W0 = [[0.68863365 0.86561576 0.06725998 0.55660686 0.90960866]\n",
      " [0.72981408 0.7388706  0.78137911 0.25784882 0.9576706 ]]\n",
      "original W1 = [[0.67031696]\n",
      " [0.83072907]\n",
      " [0.24767907]\n",
      " [0.90732948]\n",
      " [0.84822154]]\n",
      "updated W1 = [[0.66680565]\n",
      " [0.82718719]\n",
      " [0.24424927]\n",
      " [0.90398764]\n",
      " [0.84460455]]\n"
     ]
    }
   ],
   "source": [
    "mlp = MLP(2, [5], 1)\n",
    "\n",
    "# create dummy date\n",
    "input = np.array([0.1, 0.2])\n",
    "target = np.array([0.3])\n",
    "\n",
    "# forward propagation\n",
    "output = mlp.forward_propagate(input)\n",
    "\n",
    "# calculate error\n",
    "error = target - output\n",
    "\n",
    "# back propagation\n",
    "mlp.back_propagate(error, verbose=True)\n",
    "\n",
    "# apply gradient descent with lr=0.1\n",
    "mlp.gradient_descent(learning_rate=0.1)"
   ]
  },
  {
   "cell_type": "code",
   "execution_count": 6,
   "metadata": {},
   "outputs": [
    {
     "data": {
      "text/plain": [
       "[array([[0.72710192, 0.9732658 , 0.4867014 ],\n",
       "        [0.68513625, 0.3613799 , 0.04730775],\n",
       "        [0.70226945, 0.60082526, 0.84729453]]),\n",
       " array([[0.62551885, 0.72825221, 0.90793098, 0.72033902, 0.17680321],\n",
       "        [0.57589463, 0.29571383, 0.84027589, 0.17464583, 0.19593625],\n",
       "        [0.08335056, 0.05957612, 0.05779832, 0.54067301, 0.56997644]]),\n",
       " array([[0.06248954, 0.45764739],\n",
       "        [0.75112079, 0.91006899],\n",
       "        [0.66130042, 0.80595545],\n",
       "        [0.74847964, 0.60260046],\n",
       "        [0.23913258, 0.11031879]])]"
      ]
     },
     "execution_count": 6,
     "metadata": {},
     "output_type": "execute_result"
    }
   ],
   "source": [
    "mlp.weights"
   ]
  },
  {
   "cell_type": "code",
   "execution_count": 6,
   "metadata": {},
   "outputs": [
    {
     "data": {
      "text/plain": [
       "array([1, 2])"
      ]
     },
     "execution_count": 6,
     "metadata": {},
     "output_type": "execute_result"
    }
   ],
   "source": [
    "a = np.array([1, 2])\n",
    "a"
   ]
  },
  {
   "cell_type": "code",
   "execution_count": 9,
   "metadata": {},
   "outputs": [
    {
     "data": {
      "text/plain": [
       "array([[1, 2]])"
      ]
     },
     "execution_count": 9,
     "metadata": {},
     "output_type": "execute_result"
    }
   ],
   "source": [
    "a_delta = a.reshape(a.shape[0], -1).T\n",
    "\n",
    "a_delta"
   ]
  },
  {
   "cell_type": "code",
   "execution_count": 10,
   "metadata": {},
   "outputs": [
    {
     "data": {
      "text/plain": [
       "(1, 2)"
      ]
     },
     "execution_count": 10,
     "metadata": {},
     "output_type": "execute_result"
    }
   ],
   "source": [
    "a_delta.shape"
   ]
  },
  {
   "cell_type": "code",
   "execution_count": 11,
   "metadata": {},
   "outputs": [
    {
     "data": {
      "text/plain": [
       "array([1, 2, 3, 4, 5])"
      ]
     },
     "execution_count": 11,
     "metadata": {},
     "output_type": "execute_result"
    }
   ],
   "source": [
    "b = np.array([1, 2, 3, 4, 5])\n",
    "\n",
    "b"
   ]
  },
  {
   "cell_type": "code",
   "execution_count": 12,
   "metadata": {},
   "outputs": [
    {
     "data": {
      "text/plain": [
       "array([[1],\n",
       "       [2],\n",
       "       [3],\n",
       "       [4],\n",
       "       [5]])"
      ]
     },
     "execution_count": 12,
     "metadata": {},
     "output_type": "execute_result"
    }
   ],
   "source": [
    "b_activation = b.reshape(b.shape[0], -1)\n",
    "\n",
    "b_activation"
   ]
  },
  {
   "cell_type": "code",
   "execution_count": 13,
   "metadata": {},
   "outputs": [
    {
     "data": {
      "text/plain": [
       "array([[ 1,  2],\n",
       "       [ 2,  4],\n",
       "       [ 3,  6],\n",
       "       [ 4,  8],\n",
       "       [ 5, 10]])"
      ]
     },
     "execution_count": 13,
     "metadata": {},
     "output_type": "execute_result"
    }
   ],
   "source": [
    "np.dot(b_activation, a_delta)"
   ]
  },
  {
   "cell_type": "code",
   "execution_count": null,
   "metadata": {},
   "outputs": [],
   "source": []
  }
 ],
 "metadata": {
  "kernelspec": {
   "display_name": "Python 3",
   "language": "python",
   "name": "python3"
  },
  "language_info": {
   "codemirror_mode": {
    "name": "ipython",
    "version": 3
   },
   "file_extension": ".py",
   "mimetype": "text/x-python",
   "name": "python",
   "nbconvert_exporter": "python",
   "pygments_lexer": "ipython3",
   "version": "3.8.5"
  }
 },
 "nbformat": 4,
 "nbformat_minor": 4
}
