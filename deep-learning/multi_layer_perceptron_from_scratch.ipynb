{
 "cells": [
  {
   "cell_type": "code",
   "execution_count": 1,
   "metadata": {},
   "outputs": [],
   "source": [
    "import numpy as np\n"
   ]
  },
  {
   "cell_type": "code",
   "execution_count": 4,
   "metadata": {},
   "outputs": [],
   "source": [
    "# build the class of MLP\n",
    "\n",
    "\n",
    "class MLP:\n",
    "    \n",
    "    def __init__(self, num_inputs=3, num_hidden=[3, 5], num_outputs=2):\n",
    "        \n",
    "        self.num_inputs = num_inputs\n",
    "        self.num_hidden = num_hidden\n",
    "        self.num_outputs = num_outputs\n",
    "        \n",
    "        \n",
    "        layers = [self.num_inputs] + self.num_hidden + [self.num_outputs]\n",
    "        \n",
    "        # initiate random weights\n",
    "        self.weights = []\n",
    "        \n",
    "        # create weights matrices for each two subsequent layers in the MLP architecture\n",
    "        for i in range(len(layers)-1):\n",
    "            w = np.random.rand(layers[i], layers[i+1])\n",
    "            self.weights.append(w)\n",
    "            \n",
    "    \n",
    "    def forward_propagate(self, inputs):\n",
    "        \n",
    "        activations = inputs\n",
    "        \n",
    "        for w in self.weights:\n",
    "            # calculate net inputs\n",
    "            net_inputs = np.dot(activations, w)\n",
    "        \n",
    "            # calculate the activations\n",
    "            activations = self._sigmoid(net_inputs)\n",
    "        \n",
    "        return activations\n",
    "    \n",
    "    \n",
    "    def _sigmoid(self, x):\n",
    "        return 1/(1 + np.exp(-x))"
   ]
  },
  {
   "cell_type": "code",
   "execution_count": 5,
   "metadata": {},
   "outputs": [
    {
     "name": "stdout",
     "output_type": "stream",
     "text": [
      "[0.23166939 0.99505063 0.56693334] [0.85822931 0.89268297]\n"
     ]
    }
   ],
   "source": [
    "mlp = MLP()\n",
    "\n",
    "inputs = np.random.rand(mlp.num_inputs)\n",
    "\n",
    "output = mlp.forward_propagate(inputs)\n",
    "\n",
    "print(inputs, output)"
   ]
  },
  {
   "cell_type": "code",
   "execution_count": 6,
   "metadata": {},
   "outputs": [
    {
     "data": {
      "text/plain": [
       "[array([[0.72710192, 0.9732658 , 0.4867014 ],\n",
       "        [0.68513625, 0.3613799 , 0.04730775],\n",
       "        [0.70226945, 0.60082526, 0.84729453]]),\n",
       " array([[0.62551885, 0.72825221, 0.90793098, 0.72033902, 0.17680321],\n",
       "        [0.57589463, 0.29571383, 0.84027589, 0.17464583, 0.19593625],\n",
       "        [0.08335056, 0.05957612, 0.05779832, 0.54067301, 0.56997644]]),\n",
       " array([[0.06248954, 0.45764739],\n",
       "        [0.75112079, 0.91006899],\n",
       "        [0.66130042, 0.80595545],\n",
       "        [0.74847964, 0.60260046],\n",
       "        [0.23913258, 0.11031879]])]"
      ]
     },
     "execution_count": 6,
     "metadata": {},
     "output_type": "execute_result"
    }
   ],
   "source": [
    "mlp.weights"
   ]
  },
  {
   "cell_type": "code",
   "execution_count": 8,
   "metadata": {},
   "outputs": [
    {
     "data": {
      "text/plain": [
       "(5, 2)"
      ]
     },
     "execution_count": 8,
     "metadata": {},
     "output_type": "execute_result"
    }
   ],
   "source": [
    "mlp.weights[2].shape"
   ]
  },
  {
   "cell_type": "code",
   "execution_count": null,
   "metadata": {},
   "outputs": [],
   "source": []
  }
 ],
 "metadata": {
  "kernelspec": {
   "display_name": "Python 3",
   "language": "python",
   "name": "python3"
  },
  "language_info": {
   "codemirror_mode": {
    "name": "ipython",
    "version": 3
   },
   "file_extension": ".py",
   "mimetype": "text/x-python",
   "name": "python",
   "nbconvert_exporter": "python",
   "pygments_lexer": "ipython3",
   "version": "3.8.5"
  }
 },
 "nbformat": 4,
 "nbformat_minor": 4
}
