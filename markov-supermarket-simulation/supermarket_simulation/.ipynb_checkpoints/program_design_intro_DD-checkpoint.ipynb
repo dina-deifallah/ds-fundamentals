{
 "cells": [
  {
   "cell_type": "markdown",
   "id": "584f59c6",
   "metadata": {},
   "source": [
    "# Objectives"
   ]
  },
  {
   "cell_type": "markdown",
   "id": "7abaa704",
   "metadata": {},
   "source": [
    "1. What is **Program Design** ? Why do we need it ?\n",
    "2. What are the **main categories** of Program Design ? What are some of the tools in each category ?\n",
    "3. Example: develop a python program to address the requirements of Pepper Academy"
   ]
  },
  {
   "cell_type": "markdown",
   "id": "0cc5dadb",
   "metadata": {},
   "source": [
    "# Warm-up"
   ]
  },
  {
   "cell_type": "markdown",
   "id": "1dc366a1",
   "metadata": {},
   "source": [
    "\n",
    "**Work in groups of 2. Read about the program design tools below and group them into one of the three categories: idea, design and coding**"
   ]
  },
  {
   "cell_type": "markdown",
   "id": "5a4be330",
   "metadata": {},
   "source": [
    "import pandas"
   ]
  },
  {
   "cell_type": "code",
   "execution_count": null,
   "id": "e6a55895",
   "metadata": {},
   "outputs": [],
   "source": [
    "import pandas"
   ]
  },
  {
   "cell_type": "code",
   "execution_count": null,
   "id": "2961120f",
   "metadata": {},
   "outputs": [],
   "source": []
  }
 ],
 "metadata": {
  "kernelspec": {
   "display_name": "Python 3",
   "language": "python",
   "name": "python3"
  },
  "language_info": {
   "codemirror_mode": {
    "name": "ipython",
    "version": 3
   },
   "file_extension": ".py",
   "mimetype": "text/x-python",
   "name": "python",
   "nbconvert_exporter": "python",
   "pygments_lexer": "ipython3",
   "version": "3.8.8"
  }
 },
 "nbformat": 4,
 "nbformat_minor": 5
}
